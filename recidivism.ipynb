{
 "cells": [
  {
   "cell_type": "markdown",
   "metadata": {
    "ein.tags": "worksheet-0",
    "slideshow": {
     "slide_type": "-"
    }
   },
   "source": [
    "# Projeto final - Predição de reincidência criminal\n",
    "O projeto desenvolvido tem como objetivo a predição de reincidência criminal, baseado em\n",
    "dados de presidiários passados. "
   ]
  },
  {
   "cell_type": "markdown",
   "metadata": {
    "ein.tags": "worksheet-0",
    "slideshow": {
     "slide_type": "-"
    }
   },
   "source": [
    "## Análise e processamento dos dados"
   ]
  },
  {
   "cell_type": "code",
   "execution_count": 235,
   "metadata": {
    "autoscroll": false,
    "collapsed": false,
    "ein.hycell": false,
    "ein.tags": "worksheet-0",
    "slideshow": {
     "slide_type": "-"
    }
   },
   "outputs": [],
   "source": [
    "import gc\n",
    "\n",
    "import pandas as pd\n",
    "import numpy as np"
   ]
  },
  {
   "cell_type": "code",
   "execution_count": 236,
   "metadata": {
    "autoscroll": false,
    "collapsed": false,
    "ein.hycell": false,
    "ein.tags": "worksheet-0",
    "slideshow": {
     "slide_type": "-"
    }
   },
   "outputs": [],
   "source": [
    "def render_table(table, title):\n",
    "  print(pd.Series(table).to_frame(title))"
   ]
  },
  {
   "cell_type": "markdown",
   "metadata": {
    "ein.tags": "worksheet-0",
    "slideshow": {
     "slide_type": "-"
    }
   },
   "source": [
    "O campo **ABT_INMATE_ID** é especificado como uma *string* de 19 caracteres. Apesar do\n",
    "formato livre, observa-se que os dados na verdade estão no formato **A[0-9]{18}**. Desta\n",
    "forma, ignorando o primeiro caractere, um inteiro de 64 *bits* é suficiente para armazenar\n",
    "este dado."
   ]
  },
  {
   "cell_type": "code",
   "execution_count": 237,
   "metadata": {
    "autoscroll": false,
    "collapsed": false,
    "ein.hycell": false,
    "ein.tags": "worksheet-0",
    "slideshow": {
     "slide_type": "-"
    }
   },
   "outputs": [],
   "source": [
    "def parse_id(id):\n",
    "  return np.int64(id[1:])"
   ]
  },
  {
   "cell_type": "markdown",
   "metadata": {
    "ein.tags": "worksheet-0",
    "slideshow": {
     "slide_type": "-"
    }
   },
   "source": [
    "As colunas que possuem dados faltantes são associadas com tipos capitalizados. Já as\n",
    "colunas completas, são associadas com tipos em minúsculo."
   ]
  },
  {
   "cell_type": "code",
   "execution_count": 238,
   "metadata": {
    "autoscroll": false,
    "collapsed": false,
    "ein.hycell": false,
    "ein.tags": "worksheet-0",
    "slideshow": {
     "slide_type": "-"
    }
   },
   "outputs": [],
   "source": [
    "index = 'ABT_INMATE_ID'\n",
    "\n",
    "columns = {\n",
    "  'SEX': 'uint8',\n",
    "  'ADMTYPE': 'Int8',\n",
    "  'OFFGENERAL': 'Int8',\n",
    "  'EDUCATION': 'Int8',\n",
    "  'ADMITYR': 'Int16',\n",
    "  'RELEASEYR': 'Int16',\n",
    "  'MAND_PRISREL_YEAR': 'Int16',\n",
    "  'PROJ_PRISREL_YEAR': 'Int16',\n",
    "  'PARELIG_YEAR': 'Int16',\n",
    "  'SENTLGTH': 'Int8',\n",
    "  'OFFDETAIL': 'Int8',\n",
    "  'RACE': 'Int8',\n",
    "  'AGEADMIT': 'Int8',\n",
    "  'AGERELEASE': 'Int8',\n",
    "  'TIMESRVD': 'Int8',\n",
    "  'RELTYPE': 'Int8',\n",
    "  'STATE' : 'uint8'\n",
    "}"
   ]
  },
  {
   "cell_type": "markdown",
   "metadata": {
    "ein.tags": "worksheet-0",
    "slideshow": {
     "slide_type": "-"
    }
   },
   "source": [
    "O dataset acompanha um *codebook* descrevendo os possíveis valores de cada coluna,\n",
    "incluindo os valores especiais para dados faltantes."
   ]
  },
  {
   "cell_type": "code",
   "execution_count": 239,
   "metadata": {
    "autoscroll": false,
    "collapsed": false,
    "ein.hycell": false,
    "ein.tags": "worksheet-0",
    "slideshow": {
     "slide_type": "-"
    }
   },
   "outputs": [],
   "source": [
    "missing_values = {\n",
    "  'ADMTYPE': '9',             # 9 = missing.\n",
    "  'OFFGENERAL': [ '5', '9' ], # 5 = other/unspecified; 9 = missing.\n",
    "  'EDUCATION': '99',          # 99 = ungraded/unknown.\n",
    "  'ADMITYR': '9999',          # 9999 = missing.\n",
    "  'RELEASEYR': '9999',        # 9999 = missing.\n",
    "  'SENTLGTH': '9',            # 9 = missing.\n",
    "  'OFFDETAIL': '99',          # 14 = other/unspecified; 99 = missing.\n",
    "  'RACE': '9',                # 9 = missing.\n",
    "  'AGEADMIT': '9',            # 9 = missing.\n",
    "  'AGERELEASE': '9',          # 9 = missing.\n",
    "  'TIMESRVD': '9',            # 9 = missing.\n",
    "  'RELTYPE': '9'              # 9 = missing.\n",
    "}"
   ]
  },
  {
   "cell_type": "code",
   "execution_count": 240,
   "metadata": {
    "autoscroll": false,
    "collapsed": false,
    "ein.hycell": false,
    "ein.tags": "worksheet-0",
    "slideshow": {
     "slide_type": "-"
    }
   },
   "outputs": [],
   "source": [
    "data = pd.read_csv(\n",
    "  'data/nan/full.tsv',\n",
    "  sep = '\\t',\n",
    "  nrows = 2_000_000,\n",
    "  usecols = [ index ] + list(columns),\n",
    "  dtype = columns,\n",
    "  na_values = missing_values,\n",
    "  converters = { index: parse_id }\n",
    ")"
   ]
  },
  {
   "cell_type": "code",
   "execution_count": 241,
   "metadata": {
    "autoscroll": false,
    "collapsed": false,
    "ein.hycell": false,
    "ein.tags": "worksheet-0",
    "slideshow": {
     "slide_type": "-"
    }
   },
   "outputs": [
    {
     "name": "stdout",
     "output_type": "stream",
     "text": [
      "<class 'pandas.core.frame.DataFrame'>\n",
      "RangeIndex: 2000000 entries, 0 to 1999999\n",
      "Data columns (total 18 columns):\n",
      "ABT_INMATE_ID        int64\n",
      "SEX                  uint8\n",
      "ADMTYPE              Int8\n",
      "OFFGENERAL           Int8\n",
      "EDUCATION            Int8\n",
      "ADMITYR              Int16\n",
      "RELEASEYR            Int16\n",
      "MAND_PRISREL_YEAR    Int16\n",
      "PROJ_PRISREL_YEAR    Int16\n",
      "PARELIG_YEAR         Int16\n",
      "SENTLGTH             Int8\n",
      "OFFDETAIL            Int8\n",
      "RACE                 Int8\n",
      "AGEADMIT             Int8\n",
      "AGERELEASE           Int8\n",
      "TIMESRVD             Int8\n",
      "RELTYPE              Int8\n",
      "STATE                uint8\n",
      "dtypes: Int16(5), Int8(10), int64(1), uint8(2)\n",
      "memory usage: 85.8 MB\n"
     ]
    }
   ],
   "source": [
    "data.info();"
   ]
  },
  {
   "cell_type": "markdown",
   "metadata": {
    "ein.tags": "worksheet-0",
    "slideshow": {
     "slide_type": "-"
    }
   },
   "source": [
    "### Dados faltantes\n",
    "Vamos analisar os dados faltantes."
   ]
  },
  {
   "cell_type": "code",
   "execution_count": 242,
   "metadata": {
    "autoscroll": false,
    "collapsed": false,
    "ein.hycell": false,
    "ein.tags": "worksheet-0",
    "slideshow": {
     "slide_type": "-"
    }
   },
   "outputs": [],
   "source": [
    "missing_data = data.isnull().mean()"
   ]
  },
  {
   "cell_type": "code",
   "execution_count": 243,
   "metadata": {
    "autoscroll": false,
    "collapsed": false,
    "ein.hycell": false,
    "ein.tags": "worksheet-0",
    "slideshow": {
     "slide_type": "-"
    }
   },
   "outputs": [
    {
     "data": {
      "image/png": "[encoded data removed]",
      "text/plain": [
       "<Figure size 432x288 with 1 Axes>"
      ]
     },
     "metadata": {},
     "output_type": "display_data"
    }
   ],
   "source": [
    "ax = missing_data.plot(\n",
    "  kind = 'bar',\n",
    "  title = 'Dados Faltantes',\n",
    "  zorder = 2 # bars over grid\n",
    ")\n",
    "\n",
    "ax.set(\n",
    "  xlabel = 'Coluna',\n",
    "  ylabel = '% de dados faltantes'\n",
    ")\n",
    "\n",
    "ax.yaxis.grid();"
   ]
  },
  {
   "cell_type": "markdown",
   "metadata": {
    "ein.tags": "worksheet-0",
    "slideshow": {
     "slide_type": "-"
    }
   },
   "source": [
    "As seguintes colunas apresentam muitos dados faltantes, e portanto serão desconsideradas:\n",
    "- MAND\\_PRISREL\\_YEAR: ano de soltura mandatório\n",
    "- PROJ\\_PRISREL\\_YEAR: ano de soltura projetado\n",
    "- PARELIG\\_YEAR: ano de eligibilidade à condicional"
   ]
  },
  {
   "cell_type": "code",
   "execution_count": 244,
   "metadata": {
    "autoscroll": false,
    "collapsed": false,
    "ein.hycell": false,
    "ein.tags": "worksheet-0",
    "slideshow": {
     "slide_type": "-"
    }
   },
   "outputs": [],
   "source": [
    "data, data_full = data.drop(\n",
    "  [\n",
    "    'MAND_PRISREL_YEAR',\n",
    "    'PROJ_PRISREL_YEAR',\n",
    "    'PARELIG_YEAR'\n",
    "  ],\n",
    "  axis = 1\n",
    "), data;"
   ]
  },
  {
   "cell_type": "markdown",
   "metadata": {
    "ein.tags": "worksheet-0",
    "slideshow": {
     "slide_type": "-"
    }
   },
   "source": [
    "Ainda, as instâncias com dados faltantes nas demais colunas serão removidas."
   ]
  },
  {
   "cell_type": "code",
   "execution_count": 245,
   "metadata": {
    "autoscroll": false,
    "collapsed": false,
    "ein.hycell": false,
    "ein.tags": "worksheet-0",
    "slideshow": {
     "slide_type": "-"
    }
   },
   "outputs": [],
   "source": [
    "data = data.dropna();"
   ]
  },
  {
   "cell_type": "code",
   "execution_count": 246,
   "metadata": {
    "autoscroll": false,
    "collapsed": false,
    "ein.hycell": false,
    "ein.tags": "worksheet-0",
    "slideshow": {
     "slide_type": "-"
    }
   },
   "outputs": [
    {
     "name": "stdout",
     "output_type": "stream",
     "text": [
      "           instâncias\n",
      "totais        2000000\n",
      "completas     1565130\n"
     ]
    }
   ],
   "source": [
    "render_table(\n",
    "  {\n",
    "    'totais': data_full.shape[0],\n",
    "    'completas': data.shape[0]\n",
    "  },\n",
    "  'instâncias'\n",
    ");"
   ]
  },
  {
   "cell_type": "markdown",
   "metadata": {
    "ein.tags": "worksheet-0",
    "slideshow": {
     "slide_type": "-"
    }
   },
   "source": [
    "### Target\n",
    "Nosso target é predizer se um prisioneiro apresentou reincidência. Como esta informação\n",
    "está implícita no dataset, precisamos calculá-la. Consideraremos que há reincidência para\n",
    "uma instância se há uma outra instância com a mesma identificação, em um ano superior de\n",
    "admissão. Para tal, é necessário definir uma margem de reincidência, pois os dados não\n",
    "podem discernir se haverá ou não reincidência no futuro. Considerando as limitações do\n",
    "dataset, definimos uma margem de 4 anos, o que já limita os dados consideravelmente,\n",
    "considerando que os últimos 4 anos de dados constituem 21.9% do total."
   ]
  },
  {
   "cell_type": "code",
   "execution_count": 247,
   "metadata": {
    "autoscroll": false,
    "collapsed": false,
    "ein.hycell": false,
    "ein.tags": "worksheet-0",
    "slideshow": {
     "slide_type": "-"
    }
   },
   "outputs": [],
   "source": [
    "target = 'RECIDIVIST'"
   ]
  },
  {
   "cell_type": "code",
   "execution_count": 248,
   "metadata": {
    "autoscroll": false,
    "collapsed": false,
    "ein.hycell": false,
    "ein.tags": "worksheet-0",
    "slideshow": {
     "slide_type": "-"
    }
   },
   "outputs": [],
   "source": [
    "data_sorted = data.sort_values(by = ['ADMITYR'])\n",
    "\n",
    "data = data_sorted.assign(\n",
    "  **{\n",
    "    target: data_sorted.duplicated(\n",
    "      subset = index,\n",
    "      keep = 'last'\n",
    "    )\n",
    "  }\n",
    ")"
   ]
  },
  {
   "cell_type": "code",
   "execution_count": 249,
   "metadata": {
    "autoscroll": false,
    "collapsed": false,
    "ein.hycell": false,
    "ein.tags": "worksheet-0",
    "slideshow": {
     "slide_type": "-"
    }
   },
   "outputs": [],
   "source": [
    "recidivism_margin = 4"
   ]
  },
  {
   "cell_type": "code",
   "execution_count": 250,
   "metadata": {
    "autoscroll": false,
    "collapsed": false,
    "ein.hycell": false,
    "ein.tags": "worksheet-0",
    "slideshow": {
     "slide_type": "-"
    }
   },
   "outputs": [],
   "source": [
    "release_year_counts = data['RELEASEYR'] \\\n",
    "  .value_counts(normalize = True) \\\n",
    "  .sort_index(ascending = False)"
   ]
  },
  {
   "cell_type": "code",
   "execution_count": 251,
   "metadata": {
    "autoscroll": false,
    "collapsed": false,
    "ein.hycell": false,
    "ein.tags": "worksheet-0",
    "slideshow": {
     "slide_type": "-"
    }
   },
   "outputs": [
    {
     "name": "stdout",
     "output_type": "stream",
     "text": [
      "Porcentagem dos dados dispostos nos últimos 4 anos: 13.9%.\n"
     ]
    }
   ],
   "source": [
    "print(\n",
    "  'Porcentagem dos dados dispostos nos últimos {} anos: {:.1%}.'.format(\n",
    "    recidivism_margin,\n",
    "    release_year_counts.head(recidivism_margin).sum()\n",
    "  )\n",
    ")"
   ]
  },
  {
   "cell_type": "code",
   "execution_count": 252,
   "metadata": {
    "autoscroll": false,
    "collapsed": false,
    "ein.hycell": false,
    "ein.tags": "worksheet-0",
    "slideshow": {
     "slide_type": "-"
    }
   },
   "outputs": [
    {
     "data": {
      "text/plain": [
       "False    0.530868\n",
       "True     0.469132\n",
       "Name: RECIDIVIST, dtype: float64"
      ]
     },
     "execution_count": 252,
     "metadata": {},
     "output_type": "execute_result"
    }
   ],
   "source": [
    "data[target].value_counts(normalize = True)"
   ]
  },
  {
   "cell_type": "code",
   "execution_count": 253,
   "metadata": {
    "autoscroll": false,
    "collapsed": false,
    "ein.hycell": false,
    "ein.tags": "worksheet-0",
    "slideshow": {
     "slide_type": "-"
    }
   },
   "outputs": [],
   "source": [
    "data, data_complete = data[\n",
    "  data['ADMITYR'] <= (release_year_counts.index.max() - recidivism_margin)\n",
    "], data;"
   ]
  },
  {
   "cell_type": "code",
   "execution_count": 254,
   "metadata": {
    "autoscroll": false,
    "collapsed": false,
    "ein.hycell": false,
    "ein.tags": "worksheet-0",
    "slideshow": {
     "slide_type": "-"
    }
   },
   "outputs": [
    {
     "name": "stdout",
     "output_type": "stream",
     "text": [
      "           instâncias\n",
      "completas     1565130\n",
      "até 2010      1434340\n"
     ]
    }
   ],
   "source": [
    "render_table(\n",
    "  {\n",
    "    'completas': data_complete.shape[0],\n",
    "    'até 2010': data.shape[0]\n",
    "  },\n",
    "  'instâncias'\n",
    ");"
   ]
  },
  {
   "cell_type": "markdown",
   "metadata": {
    "ein.tags": "worksheet-0",
    "slideshow": {
     "slide_type": "-"
    }
   },
   "source": [
    "### Features \n",
    "A feature **RACE** foi desconsiderada para o aprendizado por motivos éticos, de forma a não\n",
    "reproduzir preconceitos intrínsecos da nossa sociedade."
   ]
  },
  {
   "cell_type": "code",
   "execution_count": 255,
   "metadata": {
    "autoscroll": false,
    "collapsed": false,
    "ein.hycell": false,
    "ein.tags": "worksheet-0",
    "slideshow": {
     "slide_type": "-"
    }
   },
   "outputs": [],
   "source": [
    "features = [\n",
    "  'SEX',\n",
    "  'ADMTYPE',\n",
    "  'OFFGENERAL',\n",
    "  'EDUCATION',\n",
    "  'SENTLGTH',\n",
    "  'OFFDETAIL',\n",
    "  'AGEADMIT',\n",
    "  'AGERELEASE',\n",
    "  'TIMESRVD',\n",
    "  'RELTYPE',\n",
    "  # 'RACE'\n",
    "]\n",
    "\n",
    "disconsidered_features = [\n",
    "  index,\n",
    "  'ADMITYR',\n",
    "  'RELEASEYR',\n",
    "  'STATE'\n",
    "]"
   ]
  },
  {
   "cell_type": "markdown",
   "metadata": {
    "ein.tags": "worksheet-0",
    "slideshow": {
     "slide_type": "-"
    }
   },
   "source": [
    "#### Estudo de caso: Etnia\n",
    "Além de desconsiderar a *feature* **RACE**, podemos analisar qual seria seu impacto no\n",
    "modelo. Para discernir sobre o impacto\n"
   ]
  },
  {
   "cell_type": "code",
   "execution_count": 303,
   "metadata": {
    "autoscroll": false,
    "collapsed": false,
    "ein.hycell": false,
    "ein.tags": "worksheet-0",
    "slideshow": {
     "slide_type": "-"
    }
   },
   "outputs": [
    {
     "data": {
      "image/png": "[encoded data removed]",
      "text/plain": [
       "<Figure size 432x288 with 1 Axes>"
      ]
     },
     "metadata": {},
     "output_type": "display_data"
    }
   ],
   "source": [
    "# data_complete.groupby(['RACE', 'SENTLGTH']).size()\n",
    "frequency = pd.crosstab(\n",
    "  data_complete['SENTLGTH'],\n",
    "  data_complete['RACE'],\n",
    "  normalize = 'index'\n",
    ").rename(\n",
    "  index = {\n",
    "    0: '0 - 1',\n",
    "    1: '1 - 2',\n",
    "    2: '2 - 5',\n",
    "    3: '5 - 10',\n",
    "    4: '10 - 25',\n",
    "    5: '25+',\n",
    "    6: 'perpétua'\n",
    "  },\n",
    "  columns = {\n",
    "    1: 'Branco',\n",
    "    2: 'Negro',\n",
    "    3: 'Hispânico',\n",
    "    4: 'Outros'\n",
    "  }\n",
    ")\n",
    "\n",
    "ax = frequency.plot.bar(zorder = 2)\n",
    "\n",
    "ax.legend(bbox_to_anchor=(1.0, 0.5))\n",
    "\n",
    "ax.yaxis.grid();\n",
    "\n",
    "ax.set(\n",
    "  title = 'Distribuição das etnias por sentença',\n",
    "  xlabel = 'Tamanho da sentença (anos)',\n",
    "  ylabel = '% de condenados'\n",
    ");\n",
    "\n",
    "fig = ax.get_figure()\n",
    "fig.tight_layout()\n",
    "fig.savefig('images/race.png')"
   ]
  },
  {
   "cell_type": "code",
   "execution_count": 256,
   "metadata": {
    "autoscroll": false,
    "collapsed": false,
    "ein.hycell": false,
    "ein.tags": "worksheet-0",
    "slideshow": {
     "slide_type": "-"
    }
   },
   "outputs": [],
   "source": [
    "data = data.drop(disconsidered_features, axis = 1);"
   ]
  },
  {
   "cell_type": "markdown",
   "metadata": {
    "ein.tags": "worksheet-0",
    "slideshow": {
     "slide_type": "-"
    }
   },
   "source": [
    "Todas as *features*, exceto as relativas a anos, são categóricas. Portanto, precisamos\n",
    "codificá-las."
   ]
  },
  {
   "cell_type": "code",
   "execution_count": 257,
   "metadata": {
    "autoscroll": false,
    "collapsed": false,
    "ein.hycell": false,
    "ein.tags": "worksheet-0",
    "slideshow": {
     "slide_type": "-"
    }
   },
   "outputs": [],
   "source": [
    "data = pd.get_dummies(\n",
    "  data,\n",
    "  columns = features,\n",
    "  drop_first = True\n",
    ");"
   ]
  },
  {
   "cell_type": "code",
   "execution_count": 258,
   "metadata": {
    "autoscroll": false,
    "collapsed": false,
    "ein.hycell": false,
    "ein.tags": "worksheet-0",
    "slideshow": {
     "slide_type": "-"
    }
   },
   "outputs": [
    {
     "name": "stdout",
     "output_type": "stream",
     "text": [
      "<class 'pandas.core.frame.DataFrame'>\n",
      "Int64Index: 1434340 entries, 1199349 to 275491\n",
      "Data columns (total 42 columns):\n",
      "RECIDIVIST      1434340 non-null bool\n",
      "SEX_2           1434340 non-null uint8\n",
      "ADMTYPE_2       1434340 non-null uint8\n",
      "ADMTYPE_3       1434340 non-null uint8\n",
      "OFFGENERAL_2    1434340 non-null uint8\n",
      "OFFGENERAL_3    1434340 non-null uint8\n",
      "OFFGENERAL_4    1434340 non-null uint8\n",
      "SENTLGTH_1      1434340 non-null uint8\n",
      "SENTLGTH_2      1434340 non-null uint8\n",
      "SENTLGTH_3      1434340 non-null uint8\n",
      "SENTLGTH_4      1434340 non-null uint8\n",
      "SENTLGTH_5      1434340 non-null uint8\n",
      "SENTLGTH_6      1434340 non-null uint8\n",
      "OFFDETAIL_2     1434340 non-null uint8\n",
      "OFFDETAIL_3     1434340 non-null uint8\n",
      "OFFDETAIL_4     1434340 non-null uint8\n",
      "OFFDETAIL_5     1434340 non-null uint8\n",
      "OFFDETAIL_6     1434340 non-null uint8\n",
      "OFFDETAIL_7     1434340 non-null uint8\n",
      "OFFDETAIL_8     1434340 non-null uint8\n",
      "OFFDETAIL_9     1434340 non-null uint8\n",
      "OFFDETAIL_10    1434340 non-null uint8\n",
      "OFFDETAIL_11    1434340 non-null uint8\n",
      "OFFDETAIL_12    1434340 non-null uint8\n",
      "OFFDETAIL_13    1434340 non-null uint8\n",
      "AGEADMIT_2      1434340 non-null uint8\n",
      "AGEADMIT_3      1434340 non-null uint8\n",
      "AGEADMIT_4      1434340 non-null uint8\n",
      "AGEADMIT_5      1434340 non-null uint8\n",
      "AGERELEASE_2    1434340 non-null uint8\n",
      "AGERELEASE_3    1434340 non-null uint8\n",
      "AGERELEASE_4    1434340 non-null uint8\n",
      "AGERELEASE_5    1434340 non-null uint8\n",
      "TIMESRVD_1      1434340 non-null uint8\n",
      "TIMESRVD_2      1434340 non-null uint8\n",
      "TIMESRVD_3      1434340 non-null uint8\n",
      "TIMESRVD_4      1434340 non-null uint8\n",
      "RELTYPE_2       1434340 non-null uint8\n",
      "RELTYPE_3       1434340 non-null uint8\n",
      "RACE_2          1434340 non-null uint8\n",
      "RACE_3          1434340 non-null uint8\n",
      "RACE_4          1434340 non-null uint8\n",
      "dtypes: bool(1), uint8(41)\n",
      "memory usage: 68.4 MB\n"
     ]
    }
   ],
   "source": [
    "data.info()"
   ]
  },
  {
   "cell_type": "markdown",
   "metadata": {
    "ein.tags": "worksheet-0",
    "slideshow": {
     "slide_type": "-"
    }
   },
   "source": [
    "## Aprendizado"
   ]
  },
  {
   "cell_type": "code",
   "execution_count": 259,
   "metadata": {
    "autoscroll": false,
    "collapsed": false,
    "ein.hycell": false,
    "ein.tags": "worksheet-0",
    "slideshow": {
     "slide_type": "-"
    }
   },
   "outputs": [],
   "source": [
    "from types import SimpleNamespace as Object"
   ]
  },
  {
   "cell_type": "code",
   "execution_count": 260,
   "metadata": {
    "autoscroll": false,
    "collapsed": false,
    "ein.hycell": false,
    "ein.tags": "worksheet-0",
    "slideshow": {
     "slide_type": "-"
    }
   },
   "outputs": [],
   "source": [
    "features = set(data)\n",
    "features.remove(target)"
   ]
  },
  {
   "cell_type": "markdown",
   "metadata": {
    "ein.tags": "worksheet-0",
    "slideshow": {
     "slide_type": "-"
    }
   },
   "source": [
    "### Validação"
   ]
  },
  {
   "cell_type": "code",
   "execution_count": 261,
   "metadata": {
    "autoscroll": false,
    "collapsed": false,
    "ein.hycell": false,
    "ein.tags": "worksheet-0",
    "slideshow": {
     "slide_type": "-"
    }
   },
   "outputs": [],
   "source": [
    "from sklearn.model_selection import KFold\n",
    "from sklearn.metrics import accuracy_score, precision_score, recall_score, f1_score\n",
    "\n",
    "N_FOLDS = 5\n",
    "\n",
    "kfold = KFold(n_splits = N_FOLDS)\n",
    "\n",
    "phases = {\n",
    "  'Train': lambda score: score.train, # get train score\n",
    "  'Test': lambda score: score.test   # get test score\n",
    "}\n",
    "\n",
    "def cross_validate(alg):\n",
    "  scores = {\n",
    "    metric: Object(\n",
    "      function = function,\n",
    "      train = [],\n",
    "      test = []\n",
    "    )\n",
    "    for metric, function in {\n",
    "      'accuracy': accuracy_score,\n",
    "      'precision': precision_score,\n",
    "      'recall': recall_score,\n",
    "      'f1': f1_score,\n",
    "    }.items()\n",
    "  }\n",
    "\n",
    "  for train, test in kfold.split(data):\n",
    "    train = data.iloc[train]\n",
    "    test  = data.iloc[test]\n",
    "\n",
    "    model = alg.fit(train[features], train[target])\n",
    "\n",
    "    prediction = Object(\n",
    "      train = model.predict(train[features]),\n",
    "      test  = model.predict(test[features])\n",
    "    )\n",
    "\n",
    "    for score in scores.values():\n",
    "      score.train.append(\n",
    "        score.function(train[target], prediction.train)\n",
    "      )\n",
    "      score.test.append(\n",
    "        score.function(test[target], prediction.test)\n",
    "      )\n",
    "\n",
    "  for score in scores.values():\n",
    "    score.train = np.mean(score.train)\n",
    "    score.test  = np.mean(score.test)\n",
    "\n",
    "  return scores"
   ]
  },
  {
   "cell_type": "markdown",
   "metadata": {
    "ein.tags": "worksheet-0",
    "slideshow": {
     "slide_type": "-"
    }
   },
   "source": [
    "### Naive Bayes"
   ]
  },
  {
   "cell_type": "code",
   "execution_count": 262,
   "metadata": {
    "autoscroll": false,
    "collapsed": false,
    "ein.hycell": false,
    "ein.tags": "worksheet-0",
    "slideshow": {
     "slide_type": "-"
    }
   },
   "outputs": [
    {
     "data": {
      "text/plain": [
       "{'accuracy': namespace(function=<function accuracy_score at 0x7fb372654730>, test=0.5608119413807048, train=0.5617850370205113),\n",
       " 'precision': namespace(function=<function precision_score at 0x7fb372654e18>, test=0.5364844725232328, train=0.5385401775729882),\n",
       " 'recall': namespace(function=<function recall_score at 0x7fb372654ea0>, test=0.8783306757878773, train=0.8828439890802248),\n",
       " 'f1': namespace(function=<function f1_score at 0x7fb372654b70>, test=0.6628773142823186, train=0.6688280682740964)}"
      ]
     },
     "execution_count": 262,
     "metadata": {},
     "output_type": "execute_result"
    }
   ],
   "source": [
    "from sklearn.naive_bayes import GaussianNB\n",
    "\n",
    "gnb = cross_validate(GaussianNB())\n",
    "\n",
    "gnb"
   ]
  },
  {
   "cell_type": "markdown",
   "metadata": {
    "ein.tags": "worksheet-0",
    "slideshow": {
     "slide_type": "-"
    }
   },
   "source": [
    "### Random Forest"
   ]
  },
  {
   "cell_type": "code",
   "execution_count": 263,
   "metadata": {
    "autoscroll": false,
    "collapsed": false,
    "ein.hycell": false,
    "ein.tags": "worksheet-0",
    "slideshow": {
     "slide_type": "-"
    }
   },
   "outputs": [
    {
     "name": "stderr",
     "output_type": "stream",
     "text": [
      "[Parallel(n_jobs=4)]: Using backend ThreadingBackend with 4 concurrent workers.\n"
     ]
    },
    {
     "name": "stderr",
     "output_type": "stream",
     "text": [
      "[Parallel(n_jobs=4)]: Done  10 out of  10 | elapsed:    8.9s finished\n",
      "[Parallel(n_jobs=4)]: Using backend ThreadingBackend with 4 concurrent workers.\n"
     ]
    },
    {
     "name": "stderr",
     "output_type": "stream",
     "text": [
      "[Parallel(n_jobs=4)]: Done  10 out of  10 | elapsed:    1.0s finished\n",
      "[Parallel(n_jobs=4)]: Using backend ThreadingBackend with 4 concurrent workers.\n"
     ]
    },
    {
     "name": "stderr",
     "output_type": "stream",
     "text": [
      "[Parallel(n_jobs=4)]: Done  10 out of  10 | elapsed:    0.2s finished\n"
     ]
    },
    {
     "name": "stderr",
     "output_type": "stream",
     "text": [
      "[Parallel(n_jobs=4)]: Using backend ThreadingBackend with 4 concurrent workers.\n"
     ]
    },
    {
     "name": "stderr",
     "output_type": "stream",
     "text": [
      "[Parallel(n_jobs=4)]: Done  10 out of  10 | elapsed:    8.8s finished\n"
     ]
    },
    {
     "name": "stderr",
     "output_type": "stream",
     "text": [
      "[Parallel(n_jobs=4)]: Using backend ThreadingBackend with 4 concurrent workers.\n"
     ]
    },
    {
     "name": "stderr",
     "output_type": "stream",
     "text": [
      "[Parallel(n_jobs=4)]: Done  10 out of  10 | elapsed:    1.0s finished\n",
      "[Parallel(n_jobs=4)]: Using backend ThreadingBackend with 4 concurrent workers.\n"
     ]
    },
    {
     "name": "stderr",
     "output_type": "stream",
     "text": [
      "[Parallel(n_jobs=4)]: Done  10 out of  10 | elapsed:    0.2s finished\n"
     ]
    },
    {
     "name": "stderr",
     "output_type": "stream",
     "text": [
      "[Parallel(n_jobs=4)]: Using backend ThreadingBackend with 4 concurrent workers.\n"
     ]
    },
    {
     "name": "stderr",
     "output_type": "stream",
     "text": [
      "[Parallel(n_jobs=4)]: Done  10 out of  10 | elapsed:    8.7s finished\n",
      "[Parallel(n_jobs=4)]: Using backend ThreadingBackend with 4 concurrent workers.\n"
     ]
    },
    {
     "name": "stderr",
     "output_type": "stream",
     "text": [
      "[Parallel(n_jobs=4)]: Done  10 out of  10 | elapsed:    1.0s finished\n",
      "[Parallel(n_jobs=4)]: Using backend ThreadingBackend with 4 concurrent workers.\n"
     ]
    },
    {
     "name": "stderr",
     "output_type": "stream",
     "text": [
      "[Parallel(n_jobs=4)]: Done  10 out of  10 | elapsed:    0.2s finished\n"
     ]
    },
    {
     "name": "stderr",
     "output_type": "stream",
     "text": [
      "[Parallel(n_jobs=4)]: Using backend ThreadingBackend with 4 concurrent workers.\n"
     ]
    },
    {
     "name": "stderr",
     "output_type": "stream",
     "text": [
      "[Parallel(n_jobs=4)]: Done  10 out of  10 | elapsed:    8.7s finished\n"
     ]
    },
    {
     "name": "stderr",
     "output_type": "stream",
     "text": [
      "[Parallel(n_jobs=4)]: Using backend ThreadingBackend with 4 concurrent workers.\n"
     ]
    },
    {
     "name": "stderr",
     "output_type": "stream",
     "text": [
      "[Parallel(n_jobs=4)]: Done  10 out of  10 | elapsed:    1.0s finished\n",
      "[Parallel(n_jobs=4)]: Using backend ThreadingBackend with 4 concurrent workers.\n"
     ]
    },
    {
     "name": "stderr",
     "output_type": "stream",
     "text": [
      "[Parallel(n_jobs=4)]: Done  10 out of  10 | elapsed:    0.2s finished\n"
     ]
    },
    {
     "name": "stderr",
     "output_type": "stream",
     "text": [
      "[Parallel(n_jobs=4)]: Using backend ThreadingBackend with 4 concurrent workers.\n"
     ]
    },
    {
     "name": "stderr",
     "output_type": "stream",
     "text": [
      "[Parallel(n_jobs=4)]: Done  10 out of  10 | elapsed:    8.6s finished\n",
      "[Parallel(n_jobs=4)]: Using backend ThreadingBackend with 4 concurrent workers.\n"
     ]
    },
    {
     "name": "stderr",
     "output_type": "stream",
     "text": [
      "[Parallel(n_jobs=4)]: Done  10 out of  10 | elapsed:    1.0s finished\n",
      "[Parallel(n_jobs=4)]: Using backend ThreadingBackend with 4 concurrent workers.\n"
     ]
    },
    {
     "name": "stderr",
     "output_type": "stream",
     "text": [
      "[Parallel(n_jobs=4)]: Done  10 out of  10 | elapsed:    0.2s finished\n"
     ]
    },
    {
     "data": {
      "text/plain": [
       "{'accuracy': namespace(function=<function accuracy_score at 0x7fb372654730>, test=0.6211372477934102, train=0.6473954920032907),\n",
       " 'precision': namespace(function=<function precision_score at 0x7fb372654e18>, test=0.6111688479186957, train=0.6299469461925387),\n",
       " 'recall': namespace(function=<function recall_score at 0x7fb372654ea0>, test=0.6959728807202781, train=0.7171327391753824),\n",
       " 'f1': namespace(function=<function f1_score at 0x7fb372654b70>, test=0.6440963558519514, train=0.6706072698778935)}"
      ]
     },
     "execution_count": 263,
     "metadata": {},
     "output_type": "execute_result"
    }
   ],
   "source": [
    "from sklearn.ensemble import RandomForestClassifier\n",
    "\n",
    "rfc = cross_validate(\n",
    "  RandomForestClassifier(\n",
    "    n_estimators = 10,\n",
    "    n_jobs = 4,\n",
    "    verbose = 1\n",
    "  )\n",
    ")\n",
    "\n",
    "gc.collect();\n",
    "\n",
    "rfc"
   ]
  },
  {
   "cell_type": "markdown",
   "metadata": {
    "ein.tags": "worksheet-0",
    "slideshow": {
     "slide_type": "-"
    }
   },
   "source": [
    "### LightGBM"
   ]
  },
  {
   "cell_type": "code",
   "execution_count": 264,
   "metadata": {
    "autoscroll": false,
    "collapsed": false,
    "ein.hycell": false,
    "ein.tags": "worksheet-0",
    "slideshow": {
     "slide_type": "-"
    }
   },
   "outputs": [],
   "source": [
    "import lightgbm as lgb\n",
    "\n",
    "data_lgb = lgb.Dataset(\n",
    "  data[features],\n",
    "  label = data[target]\n",
    ")\n",
    "\n",
    "data_lgb.raw_data = None\n",
    "\n",
    "gc.collect();"
   ]
  },
  {
   "cell_type": "code",
   "execution_count": 265,
   "metadata": {
    "autoscroll": false,
    "collapsed": false,
    "ein.hycell": false,
    "ein.tags": "worksheet-0",
    "slideshow": {
     "slide_type": "-"
    }
   },
   "outputs": [
    {
     "data": {
      "text/plain": [
       "{'binary_logloss-mean': [0.6847886837320477,\n",
       "  0.6780077654837332,\n",
       "  0.6724335184007905,\n",
       "  0.6678778836504251,\n",
       "  0.664132363019305,\n",
       "  0.6609453151473662,\n",
       "  0.6582653580907583,\n",
       "  0.6559877853922662,\n",
       "  0.65402259100095,\n",
       "  0.6523487558799648],\n",
       " 'binary_logloss-stdv': [3.0018346631588307e-05,\n",
       "  6.806049303087913e-05,\n",
       "  9.024639030779288e-05,\n",
       "  0.00010771191526981785,\n",
       "  0.00012536701039592472,\n",
       "  0.00014154068207411206,\n",
       "  0.0001848306008593801,\n",
       "  0.00020308039275801842,\n",
       "  0.00022502433639372328,\n",
       "  0.0002110280215330242],\n",
       " 'f1-mean': [0.6629662660977026,\n",
       "  0.6599764173413055,\n",
       "  0.6522229859285066,\n",
       "  0.6518925469811955,\n",
       "  0.6514944326205857,\n",
       "  0.652569278531657,\n",
       "  0.650552322323066,\n",
       "  0.6529218158264627,\n",
       "  0.65053590388712,\n",
       "  0.650265007826835],\n",
       " 'f1-stdv': [0.0008041486476503717,\n",
       "  0.00028630119464909625,\n",
       "  0.0027703365294119704,\n",
       "  0.0029986923625661276,\n",
       "  0.0013182146898451203,\n",
       "  0.0018857330118956948,\n",
       "  0.0025078876082659353,\n",
       "  0.003429580138956902,\n",
       "  0.0018762915546120197,\n",
       "  0.0017726759945625695]}"
      ]
     },
     "execution_count": 265,
     "metadata": {},
     "output_type": "execute_result"
    }
   ],
   "source": [
    "from sklearn.metrics import f1_score\n",
    "\n",
    "def lgb_f1_score(y_hat, data):\n",
    "    y_true = data.get_label()\n",
    "    y_hat = np.round(y_hat) # scikits f1 doesn't like probabilities\n",
    "    return 'f1', f1_score(y_true, y_hat), True\n",
    "\n",
    "lgb.cv(\n",
    "  {\n",
    "    'num_leaves': 31,\n",
    "    'objective': 'binary',\n",
    "    # 'metric': 'auc',\n",
    "    'num_threads': 3,\n",
    "    # 'device_type': 'gpu'\n",
    "  },\n",
    "  data_lgb,\n",
    "  10,\n",
    "  nfold = 5,\n",
    "  feval = lgb_f1_score\n",
    ")"
   ]
  },
  {
   "cell_type": "code",
   "execution_count": 266,
   "metadata": {
    "autoscroll": false,
    "collapsed": false,
    "ein.hycell": false,
    "ein.tags": "worksheet-0",
    "slideshow": {
     "slide_type": "-"
    }
   },
   "outputs": [],
   "source": [
    "gc.collect();"
   ]
  },
  {
   "cell_type": "markdown",
   "metadata": {
    "ein.tags": "worksheet-0",
    "slideshow": {
     "slide_type": "-"
    }
   },
   "source": [
    "### XGBoost"
   ]
  },
  {
   "cell_type": "code",
   "execution_count": 267,
   "metadata": {
    "autoscroll": false,
    "collapsed": false,
    "ein.hycell": false,
    "ein.tags": "worksheet-0",
    "slideshow": {
     "slide_type": "-"
    }
   },
   "outputs": [],
   "source": [
    "from xgboost import XGBClassifier\n",
    "\n",
    "xgb = cross_validate(\n",
    "  XGBClassifier(\n",
    "    n_jobs = 4\n",
    "  )\n",
    ")"
   ]
  },
  {
   "cell_type": "code",
   "execution_count": 268,
   "metadata": {
    "autoscroll": false,
    "collapsed": false,
    "ein.hycell": false,
    "ein.tags": "worksheet-0",
    "slideshow": {
     "slide_type": "-"
    }
   },
   "outputs": [
    {
     "data": {
      "text/plain": [
       "{'accuracy': namespace(function=<function accuracy_score at 0x7fb372654730>, test=0.6218574396586584, train=0.6350307458482647),\n",
       " 'precision': namespace(function=<function precision_score at 0x7fb372654e18>, test=0.6164695618739088, train=0.6226708576266199),\n",
       " 'recall': namespace(function=<function recall_score at 0x7fb372654ea0>, test=0.6781433162283192, train=0.6878469415122309),\n",
       " 'f1': namespace(function=<function f1_score at 0x7fb372654b70>, test=0.6384168259671801, train=0.6533583532739587)}"
      ]
     },
     "execution_count": 268,
     "metadata": {},
     "output_type": "execute_result"
    }
   ],
   "source": [
    "xgb"
   ]
  }
 ],
 "metadata": {
  "kernelspec": {
   "argv": [
    "python",
    "-m",
    "ipykernel_launcher",
    "-f",
    "{connection_file}"
   ],
   "display_name": "Python 3",
   "env": null,
   "interrupt_mode": "signal",
   "language": "python",
   "metadata": null,
   "name": "python3"
  },
  "name": "recidivism.ipynb"
 },
 "nbformat": 4,
 "nbformat_minor": 2
}
