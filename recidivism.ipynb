{
 "cells": [
  {
   "cell_type": "markdown",
   "metadata": {
    "ein.tags": "worksheet-0",
    "slideshow": {
     "slide_type": "-"
    }
   },
   "source": [
    "# Projeto final - Predição de reincidência criminal\n",
    "O projeto desenvolvido tem como objetivo a predição de reincidência criminal, baseado em\n",
    "dados de presidiários passados. Após uma longa busca por um *dataset* que contivesse\n",
    "informação de reincidência, encontrei a base de dados do [National Corrections Reporting\n",
    "Program](https://www.icpsr.umich.edu/icpsrweb/NACJD/studies/36404/summary#), que\n",
    "identifica de forma anônima os condenados. Desta forma, uma duplicidade de ids representa\n",
    "um reincidente."
   ]
  },
  {
   "cell_type": "markdown",
   "metadata": {
    "ein.tags": "worksheet-0",
    "slideshow": {
     "slide_type": "-"
    }
   },
   "source": [
    "## Análise e processamento dos dados"
   ]
  },
  {
   "cell_type": "markdown",
   "metadata": {
    "ein.tags": "worksheet-0",
    "slideshow": {
     "slide_type": "-"
    }
   },
   "source": [
    "Antes de processar o dataset com Python, substitui os espaços em branco por NaN utilizando\n",
    "a ferramenta `sed`:\n",
    "`sed -e 's/ /NaN/g'`"
   ]
  },
  {
   "cell_type": "code",
   "execution_count": 2,
   "metadata": {
    "autoscroll": false,
    "ein.hycell": false,
    "ein.tags": "worksheet-0",
    "slideshow": {
     "slide_type": "-"
    }
   },
   "outputs": [],
   "source": [
    "import pandas as pd\n",
    "import numpy as np"
   ]
  },
  {
   "cell_type": "code",
   "execution_count": 3,
   "metadata": {
    "autoscroll": false,
    "ein.hycell": false,
    "ein.tags": "worksheet-0",
    "slideshow": {
     "slide_type": "-"
    }
   },
   "outputs": [],
   "source": [
    "def render_table(table, title):\n",
    "  print(pd.Series(table).to_frame(title))"
   ]
  },
  {
   "cell_type": "markdown",
   "metadata": {
    "ein.tags": "worksheet-0",
    "slideshow": {
     "slide_type": "-"
    }
   },
   "source": [
    "O campo **ABT_INMATE_ID** é especificado como uma *string* de 19 caracteres. Apesar do\n",
    "formato livre, observa-se que os dados na verdade estão no formato **A[0-9]{18}**. Desta\n",
    "forma, ignorando o primeiro caractere, um inteiro de 64 *bits* é suficiente para armazenar\n",
    "este dado."
   ]
  },
  {
   "cell_type": "code",
   "execution_count": 4,
   "metadata": {
    "autoscroll": false,
    "ein.hycell": false,
    "ein.tags": "worksheet-0",
    "slideshow": {
     "slide_type": "-"
    }
   },
   "outputs": [],
   "source": [
    "def parse_id(id):\n",
    "  return np.int64(id[1:])"
   ]
  },
  {
   "cell_type": "markdown",
   "metadata": {
    "ein.tags": "worksheet-0",
    "slideshow": {
     "slide_type": "-"
    }
   },
   "source": [
    "As colunas que possuem dados faltantes são associadas com tipos capitalizados. Já as\n",
    "colunas completas, são associadas com tipos em minúsculo."
   ]
  },
  {
   "cell_type": "code",
   "execution_count": 5,
   "metadata": {
    "autoscroll": false,
    "ein.hycell": false,
    "ein.tags": "worksheet-0",
    "slideshow": {
     "slide_type": "-"
    }
   },
   "outputs": [],
   "source": [
    "index = 'ABT_INMATE_ID'\n",
    "\n",
    "columns = {\n",
    "  'SEX': 'uint8',\n",
    "  'ADMTYPE': 'Int8',\n",
    "  'OFFGENERAL': 'Int8',\n",
    "  'EDUCATION': 'Int8',\n",
    "  'ADMITYR': 'Int16',\n",
    "  'RELEASEYR': 'Int16',\n",
    "  'MAND_PRISREL_YEAR': 'Int16',\n",
    "  'PROJ_PRISREL_YEAR': 'Int16',\n",
    "  'PARELIG_YEAR': 'Int16',\n",
    "  'SENTLGTH': 'Int8',\n",
    "  'OFFDETAIL': 'Int8',\n",
    "  'RACE': 'Int8',\n",
    "  'AGEADMIT': 'Int8',\n",
    "  'AGERELEASE': 'Int8',\n",
    "  'TIMESRVD': 'Int8',\n",
    "  'RELTYPE': 'Int8',\n",
    "  'STATE' : 'uint8'\n",
    "}"
   ]
  },
  {
   "cell_type": "markdown",
   "metadata": {
    "ein.tags": "worksheet-0",
    "slideshow": {
     "slide_type": "-"
    }
   },
   "source": [
    "O dataset acompanha um *codebook* descrevendo os possíveis valores de cada coluna,\n",
    "incluindo os valores especiais para dados faltantes. Apesar disso, como descrito\n",
    "anteriormente, algumas células possuiam dados faltantes na forma de espaços. Estes valores\n",
    "foram corrigidos previamente."
   ]
  },
  {
   "cell_type": "code",
   "execution_count": 6,
   "metadata": {
    "autoscroll": false,
    "ein.hycell": false,
    "ein.tags": "worksheet-0",
    "slideshow": {
     "slide_type": "-"
    }
   },
   "outputs": [],
   "source": [
    "missing_values = {\n",
    "  'ADMTYPE': '9',             # 9 = missing.\n",
    "  'OFFGENERAL': [ '5', '9' ], # 5 = other/unspecified; 9 = missing.\n",
    "  'EDUCATION': '99',          # 99 = ungraded/unknown.\n",
    "  'ADMITYR': '9999',          # 9999 = missing.\n",
    "  'RELEASEYR': '9999',        # 9999 = missing.\n",
    "  'SENTLGTH': '9',            # 9 = missing.\n",
    "  'OFFDETAIL': '99',          # 14 = other/unspecified; 99 = missing.\n",
    "  'RACE': '9',                # 9 = missing.\n",
    "  'AGEADMIT': '9',            # 9 = missing.\n",
    "  'AGERELEASE': '9',          # 9 = missing.\n",
    "  'TIMESRVD': '9',            # 9 = missing.\n",
    "  'RELTYPE': '9'              # 9 = missing.\n",
    "}"
   ]
  },
  {
   "cell_type": "markdown",
   "metadata": {
    "ein.tags": "worksheet-0",
    "slideshow": {
     "slide_type": "-"
    }
   },
   "source": [
    "Por motivos computacionais, subconjuntos do conjunto de dados total foram utilizados."
   ]
  },
  {
   "cell_type": "code",
   "execution_count": 7,
   "metadata": {
    "autoscroll": false,
    "ein.hycell": false,
    "ein.tags": "worksheet-0",
    "slideshow": {
     "slide_type": "-"
    }
   },
   "outputs": [],
   "source": [
    "nrows = 2_000_000"
   ]
  },
  {
   "cell_type": "code",
   "execution_count": 8,
   "metadata": {
    "autoscroll": false,
    "ein.hycell": false,
    "ein.tags": "worksheet-0",
    "slideshow": {
     "slide_type": "-"
    }
   },
   "outputs": [],
   "source": [
    "data = pd.read_csv(\n",
    "  'data/nan/full.tsv',\n",
    "  sep = '\\t',\n",
    "  nrows = nrows,\n",
    "  usecols = [ index ] + list(columns),\n",
    "  dtype = columns,\n",
    "  na_values = missing_values,\n",
    "  converters = { index: parse_id }\n",
    ")"
   ]
  },
  {
   "cell_type": "code",
   "execution_count": 9,
   "metadata": {
    "autoscroll": false,
    "ein.hycell": false,
    "ein.tags": "worksheet-0",
    "slideshow": {
     "slide_type": "-"
    }
   },
   "outputs": [
    {
     "name": "stdout",
     "output_type": "stream",
     "text": [
      "<class 'pandas.core.frame.DataFrame'>\n",
      "RangeIndex: 2000000 entries, 0 to 1999999\n",
      "Data columns (total 18 columns):\n",
      "ABT_INMATE_ID        int64\n",
      "SEX                  uint8\n",
      "ADMTYPE              Int8\n",
      "OFFGENERAL           Int8\n",
      "EDUCATION            Int8\n",
      "ADMITYR              Int16\n",
      "RELEASEYR            Int16\n",
      "MAND_PRISREL_YEAR    Int16\n",
      "PROJ_PRISREL_YEAR    Int16\n",
      "PARELIG_YEAR         Int16\n",
      "SENTLGTH             Int8\n",
      "OFFDETAIL            Int8\n",
      "RACE                 Int8\n",
      "AGEADMIT             Int8\n",
      "AGERELEASE           Int8\n",
      "TIMESRVD             Int8\n",
      "RELTYPE              Int8\n",
      "STATE                uint8\n",
      "dtypes: Int16(5), Int8(10), int64(1), uint8(2)\n",
      "memory usage: 85.8 MB\n"
     ]
    }
   ],
   "source": [
    "data.info();"
   ]
  },
  {
   "cell_type": "markdown",
   "metadata": {
    "ein.tags": "worksheet-0",
    "slideshow": {
     "slide_type": "-"
    }
   },
   "source": [
    "### Dados faltantes\n",
    "Vamos analisar os dados faltantes."
   ]
  },
  {
   "cell_type": "code",
   "execution_count": 10,
   "metadata": {
    "autoscroll": false,
    "ein.hycell": false,
    "ein.tags": "worksheet-0",
    "slideshow": {
     "slide_type": "-"
    }
   },
   "outputs": [],
   "source": [
    "missing_data = data.isnull().mean()"
   ]
  },
  {
   "cell_type": "code",
   "execution_count": 11,
   "metadata": {
    "autoscroll": false,
    "ein.hycell": false,
    "ein.tags": "worksheet-0",
    "slideshow": {
     "slide_type": "-"
    }
   },
   "outputs": [],
   "source": [
    "ax = missing_data.plot(\n",
    "  kind = 'bar',\n",
    "  title = 'Dados Faltantes',\n",
    "  zorder = 2 # bars over grid\n",
    ")\n",
    "\n",
    "ax.set(\n",
    "  xlabel = 'Coluna',\n",
    "  ylabel = '% de dados faltantes'\n",
    ")\n",
    "\n",
    "ax.yaxis.grid();"
   ]
  },
  {
   "cell_type": "markdown",
   "metadata": {
    "ein.tags": "worksheet-0",
    "slideshow": {
     "slide_type": "-"
    }
   },
   "source": [
    "As seguintes colunas apresentam muitos dados faltantes, e portanto serão desconsideradas:\n",
    "- MAND\\_PRISREL\\_YEAR: ano de soltura mandatório.\n",
    "- PROJ\\_PRISREL\\_YEAR: ano de soltura projetado.\n",
    "- PARELIG\\_YEAR: ano de eligibilidade à condicional."
   ]
  },
  {
   "cell_type": "code",
   "execution_count": 12,
   "metadata": {
    "autoscroll": false,
    "ein.hycell": false,
    "ein.tags": "worksheet-0",
    "slideshow": {
     "slide_type": "-"
    }
   },
   "outputs": [],
   "source": [
    "data, data_full = data.drop(\n",
    "  [\n",
    "    'MAND_PRISREL_YEAR',\n",
    "    'PROJ_PRISREL_YEAR',\n",
    "    'PARELIG_YEAR'\n",
    "  ],\n",
    "  axis = 1\n",
    "), data;"
   ]
  },
  {
   "cell_type": "markdown",
   "metadata": {
    "ein.tags": "worksheet-0",
    "slideshow": {
     "slide_type": "-"
    }
   },
   "source": [
    "Ainda, as instâncias com dados faltantes nas demais colunas serão removidas."
   ]
  },
  {
   "cell_type": "code",
   "execution_count": 13,
   "metadata": {
    "autoscroll": false,
    "ein.hycell": false,
    "ein.tags": "worksheet-0",
    "slideshow": {
     "slide_type": "-"
    }
   },
   "outputs": [],
   "source": [
    "data = data.dropna();"
   ]
  },
  {
   "cell_type": "code",
   "execution_count": 14,
   "metadata": {
    "autoscroll": false,
    "ein.hycell": false,
    "ein.tags": "worksheet-0",
    "slideshow": {
     "slide_type": "-"
    }
   },
   "outputs": [
    {
     "name": "stdout",
     "output_type": "stream",
     "text": [
      "           instâncias\n",
      "totais        2000000\n",
      "completas     1565130\n"
     ]
    }
   ],
   "source": [
    "render_table(\n",
    "  {\n",
    "    'totais': data_full.shape[0],\n",
    "    'completas': data.shape[0]\n",
    "  },\n",
    "  'instâncias'\n",
    ");"
   ]
  },
  {
   "cell_type": "markdown",
   "metadata": {
    "ein.tags": "worksheet-0",
    "slideshow": {
     "slide_type": "-"
    }
   },
   "source": [
    "### Target\n",
    "Nosso target é predizer se um condenado apresentou reincidência. Como esta informação\n",
    "está implícita no dataset, precisamos calculá-la. Consideraremos que há reincidência para\n",
    "uma instância se há uma outra instância com a mesma identificação, em um ano superior de\n",
    "admissão. Para tal, é necessário definir uma margem de reincidência, pois os dados não\n",
    "podem discernir se haverá ou não reincidência no futuro. Considerando as limitações do\n",
    "dataset, definimos uma margem de 4 anos, o que já limita os dados consideravelmente,\n",
    "considerando que os últimos 4 anos de dados constituem 21.9% do total."
   ]
  },
  {
   "cell_type": "code",
   "execution_count": 15,
   "metadata": {
    "autoscroll": false,
    "ein.hycell": false,
    "ein.tags": "worksheet-0",
    "slideshow": {
     "slide_type": "-"
    }
   },
   "outputs": [],
   "source": [
    "target = 'RECIDIVIST'"
   ]
  },
  {
   "cell_type": "code",
   "execution_count": 16,
   "metadata": {
    "autoscroll": false,
    "ein.hycell": false,
    "ein.tags": "worksheet-0",
    "slideshow": {
     "slide_type": "-"
    }
   },
   "outputs": [],
   "source": [
    "data_sorted = data.sort_values(by = ['ADMITYR'])\n",
    "\n",
    "data = data_sorted.assign(\n",
    "  **{\n",
    "    target: data_sorted.duplicated(\n",
    "      subset = index,\n",
    "      keep = 'last'\n",
    "    )\n",
    "  }\n",
    ")"
   ]
  },
  {
   "cell_type": "markdown",
   "metadata": {
    "ein.tags": "worksheet-0",
    "slideshow": {
     "slide_type": "-"
    }
   },
   "source": [
    "Margem de reincidência:"
   ]
  },
  {
   "cell_type": "code",
   "execution_count": 17,
   "metadata": {
    "autoscroll": false,
    "ein.hycell": false,
    "ein.tags": "worksheet-0",
    "slideshow": {
     "slide_type": "-"
    }
   },
   "outputs": [],
   "source": [
    "recidivism_margin = 4"
   ]
  },
  {
   "cell_type": "code",
   "execution_count": 18,
   "metadata": {
    "autoscroll": false,
    "ein.hycell": false,
    "ein.tags": "worksheet-0",
    "slideshow": {
     "slide_type": "-"
    }
   },
   "outputs": [],
   "source": [
    "release_year_counts = data['RELEASEYR'] \\\n",
    "  .value_counts(normalize = True) \\\n",
    "  .sort_index(ascending = False)"
   ]
  },
  {
   "cell_type": "code",
   "execution_count": 19,
   "metadata": {
    "autoscroll": false,
    "ein.hycell": false,
    "ein.tags": "worksheet-0",
    "slideshow": {
     "slide_type": "-"
    }
   },
   "outputs": [
    {
     "name": "stdout",
     "output_type": "stream",
     "text": [
      "Porcentagem dos dados dispostos nos últimos 4 anos: 13.9%.\n"
     ]
    }
   ],
   "source": [
    "print(\n",
    "  'Porcentagem dos dados dispostos nos últimos {} anos: {:.1%}.'.format(\n",
    "    recidivism_margin,\n",
    "    release_year_counts.head(recidivism_margin).sum()\n",
    "  )\n",
    ")"
   ]
  },
  {
   "cell_type": "markdown",
   "metadata": {
    "ein.tags": "worksheet-0",
    "slideshow": {
     "slide_type": "-"
    }
   },
   "source": [
    "Abaixo, observamos que o *target* não aprenda problema de desbalanceamento."
   ]
  },
  {
   "cell_type": "code",
   "execution_count": 20,
   "metadata": {
    "autoscroll": false,
    "ein.hycell": false,
    "ein.tags": "worksheet-0",
    "slideshow": {
     "slide_type": "-"
    }
   },
   "outputs": [
    {
     "data": {
      "text/plain": [
       "False    0.530868\n",
       "True     0.469132\n",
       "Name: RECIDIVIST, dtype: float64"
      ]
     },
     "execution_count": 20,
     "metadata": {},
     "output_type": "execute_result"
    }
   ],
   "source": [
    "data[target].value_counts(normalize = True)"
   ]
  },
  {
   "cell_type": "code",
   "execution_count": 41,
   "metadata": {
    "autoscroll": false,
    "ein.hycell": false,
    "ein.tags": "worksheet-0",
    "slideshow": {
     "slide_type": "-"
    }
   },
   "outputs": [],
   "source": [
    "data, data_complete = data[\n",
    "  data['ADMITYR'] <= (release_year_counts.index.max() - recidivism_margin)\n",
    "], data;"
   ]
  },
  {
   "cell_type": "code",
   "execution_count": 42,
   "metadata": {
    "autoscroll": false,
    "ein.hycell": false,
    "ein.tags": "worksheet-0",
    "slideshow": {
     "slide_type": "-"
    }
   },
   "outputs": [
    {
     "name": "stdout",
     "output_type": "stream",
     "text": [
      "           instâncias\n",
      "completas     1565130\n",
      "até 2010      1434340\n"
     ]
    }
   ],
   "source": [
    "render_table(\n",
    "  {\n",
    "    'completas': data_complete.shape[0],\n",
    "    'até 2010': data.shape[0]\n",
    "  },\n",
    "  'instâncias'\n",
    ");"
   ]
  },
  {
   "cell_type": "markdown",
   "metadata": {
    "ein.tags": "worksheet-0",
    "slideshow": {
     "slide_type": "-"
    }
   },
   "source": [
    "### Features \n",
    "A feature **RACE** foi desconsiderada a princípio para o aprendizado por motivos éticos,\n",
    "de forma a não reproduzir preconceitos intrínsecos da nossa sociedade."
   ]
  },
  {
   "cell_type": "code",
   "execution_count": 43,
   "metadata": {
    "autoscroll": false,
    "ein.hycell": false,
    "ein.tags": "worksheet-0",
    "slideshow": {
     "slide_type": "-"
    }
   },
   "outputs": [],
   "source": [
    "features = [\n",
    "  'SEX',\n",
    "  'ADMTYPE',\n",
    "  'OFFGENERAL',\n",
    "  'EDUCATION',\n",
    "  'SENTLGTH',\n",
    "  'OFFDETAIL',\n",
    "  'AGEADMIT',\n",
    "  'AGERELEASE',\n",
    "  'TIMESRVD',\n",
    "  'RELTYPE',\n",
    "  # 'RACE'\n",
    "]\n",
    "\n",
    "disconsidered_features = [\n",
    "  index,\n",
    "  'ADMITYR',\n",
    "  'RELEASEYR',\n",
    "  'STATE',\n",
    "  'RACE'\n",
    "]"
   ]
  },
  {
   "cell_type": "code",
   "execution_count": 44,
   "metadata": {
    "autoscroll": false,
    "ein.hycell": false,
    "ein.tags": "worksheet-0",
    "slideshow": {
     "slide_type": "-"
    }
   },
   "outputs": [],
   "source": [
    "data = data.drop(disconsidered_features, axis = 1);"
   ]
  },
  {
   "cell_type": "markdown",
   "metadata": {
    "ein.tags": "worksheet-0",
    "slideshow": {
     "slide_type": "-"
    }
   },
   "source": [
    "#### Estudo de caso: Etnia\n",
    "Além de desconsiderar a *feature* **RACE**, podemos analisar qual seria seu impacto nos\n",
    "modelos. Para isso, descomentei a *feature* acima e rodei os modelos. Os resultados estão\n",
    "dispostos no poster. A servir de comparação, analisamos a distribuição das raças nas\n",
    "sentenças finais."
   ]
  },
  {
   "cell_type": "code",
   "execution_count": 45,
   "metadata": {
    "autoscroll": false,
    "ein.hycell": false,
    "ein.tags": "worksheet-0",
    "slideshow": {
     "slide_type": "-"
    }
   },
   "outputs": [
    {
     "data": {
      "image/png": "[encoded data removed]",
      "text/plain": [
       "<Figure size 432x288 with 1 Axes>"
      ]
     },
     "metadata": {},
     "output_type": "display_data"
    }
   ],
   "source": [
    "# data_complete.groupby(['RACE', 'SENTLGTH']).size()\n",
    "frequency = pd.crosstab(\n",
    "  data_complete['SENTLGTH'],\n",
    "  data_complete['RACE'],\n",
    "  normalize = 'index'\n",
    ").rename(\n",
    "  index = {\n",
    "    0: '0 - 1',\n",
    "    1: '1 - 2',\n",
    "    2: '2 - 5',\n",
    "    3: '5 - 10',\n",
    "    4: '10 - 25',\n",
    "    5: '25+',\n",
    "    6: 'perpétua'\n",
    "  },\n",
    "  columns = {\n",
    "    1: 'Branco',\n",
    "    2: 'Negro',\n",
    "    3: 'Hispânico',\n",
    "    4: 'Outros'\n",
    "  }\n",
    ")\n",
    "\n",
    "ax = frequency.plot.bar(zorder = 2)\n",
    "\n",
    "ax.legend(bbox_to_anchor=(1.0, 0.5))\n",
    "\n",
    "ax.yaxis.grid();\n",
    "\n",
    "ax.set(\n",
    "  title = 'Distribuição das etnias por sentença',\n",
    "  xlabel = 'Tamanho da sentença (anos)',\n",
    "  ylabel = '% de condenados'\n",
    ");\n",
    "\n",
    "fig = ax.get_figure()\n",
    "fig.tight_layout()\n",
    "fig.savefig('images/race.png')"
   ]
  },
  {
   "cell_type": "markdown",
   "metadata": {
    "ein.tags": "worksheet-0",
    "slideshow": {
     "slide_type": "-"
    }
   },
   "source": [
    "### Encoding\n",
    "Todas as *features*, exceto as relativas a anos, são categóricas. Portanto, precisamos\n",
    "codificá-las."
   ]
  },
  {
   "cell_type": "code",
   "execution_count": 46,
   "metadata": {
    "autoscroll": false,
    "ein.hycell": false,
    "ein.tags": "worksheet-0",
    "slideshow": {
     "slide_type": "-"
    }
   },
   "outputs": [],
   "source": [
    "data = pd.get_dummies(\n",
    "  data,\n",
    "  columns = features,\n",
    "  drop_first = True\n",
    ");"
   ]
  },
  {
   "cell_type": "code",
   "execution_count": 47,
   "metadata": {
    "autoscroll": false,
    "ein.hycell": false,
    "ein.tags": "worksheet-0",
    "slideshow": {
     "slide_type": "-"
    }
   },
   "outputs": [
    {
     "name": "stdout",
     "output_type": "stream",
     "text": [
      "<class 'pandas.core.frame.DataFrame'>\n",
      "Int64Index: 1434340 entries, 1199349 to 275491\n",
      "Data columns (total 39 columns):\n",
      "RECIDIVIST      1434340 non-null bool\n",
      "SEX_2           1434340 non-null uint8\n",
      "ADMTYPE_2       1434340 non-null uint8\n",
      "ADMTYPE_3       1434340 non-null uint8\n",
      "OFFGENERAL_2    1434340 non-null uint8\n",
      "OFFGENERAL_3    1434340 non-null uint8\n",
      "OFFGENERAL_4    1434340 non-null uint8\n",
      "SENTLGTH_1      1434340 non-null uint8\n",
      "SENTLGTH_2      1434340 non-null uint8\n",
      "SENTLGTH_3      1434340 non-null uint8\n",
      "SENTLGTH_4      1434340 non-null uint8\n",
      "SENTLGTH_5      1434340 non-null uint8\n",
      "SENTLGTH_6      1434340 non-null uint8\n",
      "OFFDETAIL_2     1434340 non-null uint8\n",
      "OFFDETAIL_3     1434340 non-null uint8\n",
      "OFFDETAIL_4     1434340 non-null uint8\n",
      "OFFDETAIL_5     1434340 non-null uint8\n",
      "OFFDETAIL_6     1434340 non-null uint8\n",
      "OFFDETAIL_7     1434340 non-null uint8\n",
      "OFFDETAIL_8     1434340 non-null uint8\n",
      "OFFDETAIL_9     1434340 non-null uint8\n",
      "OFFDETAIL_10    1434340 non-null uint8\n",
      "OFFDETAIL_11    1434340 non-null uint8\n",
      "OFFDETAIL_12    1434340 non-null uint8\n",
      "OFFDETAIL_13    1434340 non-null uint8\n",
      "AGEADMIT_2      1434340 non-null uint8\n",
      "AGEADMIT_3      1434340 non-null uint8\n",
      "AGEADMIT_4      1434340 non-null uint8\n",
      "AGEADMIT_5      1434340 non-null uint8\n",
      "AGERELEASE_2    1434340 non-null uint8\n",
      "AGERELEASE_3    1434340 non-null uint8\n",
      "AGERELEASE_4    1434340 non-null uint8\n",
      "AGERELEASE_5    1434340 non-null uint8\n",
      "TIMESRVD_1      1434340 non-null uint8\n",
      "TIMESRVD_2      1434340 non-null uint8\n",
      "TIMESRVD_3      1434340 non-null uint8\n",
      "TIMESRVD_4      1434340 non-null uint8\n",
      "RELTYPE_2       1434340 non-null uint8\n",
      "RELTYPE_3       1434340 non-null uint8\n",
      "dtypes: bool(1), uint8(38)\n",
      "memory usage: 64.3 MB\n"
     ]
    }
   ],
   "source": [
    "data.info()"
   ]
  },
  {
   "cell_type": "markdown",
   "metadata": {
    "ein.tags": "worksheet-0",
    "slideshow": {
     "slide_type": "-"
    }
   },
   "source": [
    "## Aprendizado"
   ]
  },
  {
   "cell_type": "code",
   "execution_count": 48,
   "metadata": {
    "autoscroll": false,
    "ein.hycell": false,
    "ein.tags": "worksheet-0",
    "slideshow": {
     "slide_type": "-"
    }
   },
   "outputs": [],
   "source": [
    "import gc\n",
    "\n",
    "from types import SimpleNamespace as Object"
   ]
  },
  {
   "cell_type": "code",
   "execution_count": 49,
   "metadata": {
    "autoscroll": false,
    "ein.hycell": false,
    "ein.tags": "worksheet-0",
    "slideshow": {
     "slide_type": "-"
    }
   },
   "outputs": [],
   "source": [
    "features = set(data)\n",
    "features.remove(target)"
   ]
  },
  {
   "cell_type": "markdown",
   "metadata": {
    "ein.tags": "worksheet-0",
    "slideshow": {
     "slide_type": "-"
    }
   },
   "source": [
    "### Validação\n",
    "Como validação, utilizei a técnica de validação cruzada *k-fold* com *k = 5*."
   ]
  },
  {
   "cell_type": "code",
   "execution_count": 50,
   "metadata": {
    "autoscroll": false,
    "ein.hycell": false,
    "ein.tags": "worksheet-0",
    "slideshow": {
     "slide_type": "-"
    }
   },
   "outputs": [],
   "source": [
    "from sklearn.model_selection import KFold\n",
    "from sklearn.metrics import accuracy_score, precision_score, recall_score, f1_score\n",
    "\n",
    "N_FOLDS = 5\n",
    "\n",
    "kfold = KFold(n_splits = N_FOLDS)\n",
    "\n",
    "phases = {\n",
    "  'Train': lambda score: score.train, # get train score\n",
    "  'Test': lambda score: score.test   # get test score\n",
    "}\n",
    "\n",
    "def cross_validate(alg):\n",
    "  scores = {\n",
    "    metric: Object(\n",
    "      function = function,\n",
    "      train = [],\n",
    "      test = []\n",
    "    )\n",
    "    for metric, function in {\n",
    "      'accuracy': accuracy_score,\n",
    "      'precision': precision_score,\n",
    "      'recall': recall_score,\n",
    "      'f1': f1_score,\n",
    "    }.items()\n",
    "  }\n",
    "\n",
    "  for train, test in kfold.split(data):\n",
    "    train = data.iloc[train]\n",
    "    test  = data.iloc[test]\n",
    "\n",
    "    model = alg.fit(train[features], train[target])\n",
    "\n",
    "    prediction = Object(\n",
    "      train = model.predict(train[features]),\n",
    "      test  = model.predict(test[features])\n",
    "    )\n",
    "\n",
    "    for score in scores.values():\n",
    "      score.train.append(\n",
    "        score.function(train[target], prediction.train)\n",
    "      )\n",
    "      score.test.append(\n",
    "        score.function(test[target], prediction.test)\n",
    "      )\n",
    "\n",
    "  for score in scores.values():\n",
    "    score.train = np.mean(score.train)\n",
    "    score.test  = np.mean(score.test)\n",
    "\n",
    "  return scores"
   ]
  },
  {
   "cell_type": "markdown",
   "metadata": {
    "ein.tags": "worksheet-0",
    "slideshow": {
     "slide_type": "-"
    }
   },
   "source": [
    "### Naive Bayes"
   ]
  },
  {
   "cell_type": "code",
   "execution_count": 51,
   "metadata": {
    "autoscroll": false,
    "ein.hycell": false,
    "ein.tags": "worksheet-0",
    "slideshow": {
     "slide_type": "-"
    }
   },
   "outputs": [
    {
     "data": {
      "text/plain": [
       "{'accuracy': namespace(function=<function accuracy_score at 0x7fcea2554bf8>, test=0.5598505235857607, train=0.5601698342094622),\n",
       " 'precision': namespace(function=<function precision_score at 0x7fcea2561378>, test=0.5355438122518542, train=0.5373325241877266),\n",
       " 'recall': namespace(function=<function recall_score at 0x7fcea2561400>, test=0.8840302789075363, train=0.8869260019395815),\n",
       " 'f1': namespace(function=<function f1_score at 0x7fcea25610d0>, test=0.6638387240120855, train=0.6690410108131901)}"
      ]
     },
     "execution_count": 51,
     "metadata": {},
     "output_type": "execute_result"
    }
   ],
   "source": [
    "from sklearn.naive_bayes import GaussianNB\n",
    "\n",
    "gnb = cross_validate(GaussianNB())\n",
    "\n",
    "gnb"
   ]
  },
  {
   "cell_type": "markdown",
   "metadata": {
    "ein.tags": "worksheet-0",
    "slideshow": {
     "slide_type": "-"
    }
   },
   "source": [
    "### Random Forest"
   ]
  },
  {
   "cell_type": "code",
   "execution_count": 52,
   "metadata": {
    "autoscroll": false,
    "ein.hycell": false,
    "ein.tags": "worksheet-0",
    "slideshow": {
     "slide_type": "-"
    }
   },
   "outputs": [
    {
     "name": "stderr",
     "output_type": "stream",
     "text": [
      "[Parallel(n_jobs=4)]: Using backend ThreadingBackend with 4 concurrent workers.\n",
      "[Parallel(n_jobs=4)]: Done  10 out of  10 | elapsed:    9.4s finished\n",
      "[Parallel(n_jobs=4)]: Using backend ThreadingBackend with 4 concurrent workers.\n",
      "[Parallel(n_jobs=4)]: Done  10 out of  10 | elapsed:    1.0s finished\n",
      "[Parallel(n_jobs=4)]: Using backend ThreadingBackend with 4 concurrent workers.\n",
      "[Parallel(n_jobs=4)]: Done  10 out of  10 | elapsed:    0.3s finished\n",
      "[Parallel(n_jobs=4)]: Using backend ThreadingBackend with 4 concurrent workers.\n",
      "[Parallel(n_jobs=4)]: Done  10 out of  10 | elapsed:    9.8s finished\n",
      "[Parallel(n_jobs=4)]: Using backend ThreadingBackend with 4 concurrent workers.\n",
      "[Parallel(n_jobs=4)]: Done  10 out of  10 | elapsed:    1.0s finished\n",
      "[Parallel(n_jobs=4)]: Using backend ThreadingBackend with 4 concurrent workers.\n",
      "[Parallel(n_jobs=4)]: Done  10 out of  10 | elapsed:    0.2s finished\n",
      "[Parallel(n_jobs=4)]: Using backend ThreadingBackend with 4 concurrent workers.\n",
      "[Parallel(n_jobs=4)]: Done  10 out of  10 | elapsed:    8.4s finished\n",
      "[Parallel(n_jobs=4)]: Using backend ThreadingBackend with 4 concurrent workers.\n",
      "[Parallel(n_jobs=4)]: Done  10 out of  10 | elapsed:    0.8s finished\n",
      "[Parallel(n_jobs=4)]: Using backend ThreadingBackend with 4 concurrent workers.\n",
      "[Parallel(n_jobs=4)]: Done  10 out of  10 | elapsed:    0.2s finished\n",
      "[Parallel(n_jobs=4)]: Using backend ThreadingBackend with 4 concurrent workers.\n",
      "[Parallel(n_jobs=4)]: Done  10 out of  10 | elapsed:    8.8s finished\n",
      "[Parallel(n_jobs=4)]: Using backend ThreadingBackend with 4 concurrent workers.\n",
      "[Parallel(n_jobs=4)]: Done  10 out of  10 | elapsed:    0.8s finished\n",
      "[Parallel(n_jobs=4)]: Using backend ThreadingBackend with 4 concurrent workers.\n",
      "[Parallel(n_jobs=4)]: Done  10 out of  10 | elapsed:    0.2s finished\n",
      "[Parallel(n_jobs=4)]: Using backend ThreadingBackend with 4 concurrent workers.\n",
      "[Parallel(n_jobs=4)]: Done  10 out of  10 | elapsed:    8.6s finished\n",
      "[Parallel(n_jobs=4)]: Using backend ThreadingBackend with 4 concurrent workers.\n",
      "[Parallel(n_jobs=4)]: Done  10 out of  10 | elapsed:    0.8s finished\n",
      "[Parallel(n_jobs=4)]: Using backend ThreadingBackend with 4 concurrent workers.\n",
      "[Parallel(n_jobs=4)]: Done  10 out of  10 | elapsed:    0.2s finished\n"
     ]
    },
    {
     "data": {
      "text/plain": [
       "{'accuracy': namespace(function=<function accuracy_score at 0x7fcea2554bf8>, test=0.6155841711170295, train=0.6356120236485073),\n",
       " 'precision': namespace(function=<function precision_score at 0x7fcea2561378>, test=0.6129958848827161, train=0.624983445288546),\n",
       " 'recall': namespace(function=<function recall_score at 0x7fcea2561400>, test=0.6686904811860066, train=0.6809675840275642),\n",
       " 'f1': namespace(function=<function f1_score at 0x7fcea25610d0>, test=0.6313067779376609, train=0.6515079652419475)}"
      ]
     },
     "execution_count": 52,
     "metadata": {},
     "output_type": "execute_result"
    }
   ],
   "source": [
    "from sklearn.ensemble import RandomForestClassifier\n",
    "\n",
    "rfc = cross_validate(\n",
    "  RandomForestClassifier(\n",
    "    n_estimators = 10,\n",
    "    n_jobs = 4,\n",
    "    verbose = 1\n",
    "  )\n",
    ")\n",
    "\n",
    "gc.collect();\n",
    "\n",
    "rfc"
   ]
  },
  {
   "cell_type": "markdown",
   "metadata": {
    "ein.tags": "worksheet-0",
    "slideshow": {
     "slide_type": "-"
    }
   },
   "source": [
    "### LightGBM"
   ]
  },
  {
   "cell_type": "code",
   "execution_count": 54,
   "metadata": {
    "autoscroll": false,
    "ein.hycell": false,
    "ein.tags": "worksheet-0",
    "slideshow": {
     "slide_type": "-"
    }
   },
   "outputs": [],
   "source": [
    "import lightgbm as lgb\n",
    "\n",
    "data_lgb = lgb.Dataset(\n",
    "  data[features],\n",
    "  label = data[target]\n",
    ")\n",
    "\n",
    "data_lgb.raw_data = None\n",
    "\n",
    "gc.collect();"
   ]
  },
  {
   "cell_type": "code",
   "execution_count": 55,
   "metadata": {
    "autoscroll": false,
    "ein.hycell": false,
    "ein.tags": "worksheet-0",
    "slideshow": {
     "slide_type": "-"
    }
   },
   "outputs": [
    {
     "data": {
      "text/plain": [
       "{'binary_logloss-mean': [0.6855205066448014,\n",
       "  0.6793359914404525,\n",
       "  0.6742808101233239,\n",
       "  0.6701503714256506,\n",
       "  0.6667388898776478,\n",
       "  0.6639318679450268,\n",
       "  0.6615956497554633,\n",
       "  0.6596481014239114,\n",
       "  0.6579986103551373,\n",
       "  0.6566042893668727],\n",
       " 'binary_logloss-stdv': [3.2822229676342674e-05,\n",
       "  6.507112466374084e-05,\n",
       "  0.00010616586736357847,\n",
       "  0.0001337398002987556,\n",
       "  0.00016094787814410104,\n",
       "  0.0001886438088009964,\n",
       "  0.00022271209415618805,\n",
       "  0.0002335556232301343,\n",
       "  0.00023966855567881385,\n",
       "  0.0002746101441004666],\n",
       " 'f1-mean': [0.654155382577984,\n",
       "  0.6498909159464541,\n",
       "  0.6489365649900078,\n",
       "  0.6366007530607396,\n",
       "  0.6305102788899752,\n",
       "  0.6310677457039907,\n",
       "  0.628318820305667,\n",
       "  0.6322566491329453,\n",
       "  0.6332979818957283,\n",
       "  0.6332488006087925],\n",
       " 'f1-stdv': [0.0007594201111875938,\n",
       "  0.000801569817587546,\n",
       "  0.0005213562792695519,\n",
       "  0.014481221436713836,\n",
       "  0.012789282340365185,\n",
       "  0.012111335744730384,\n",
       "  0.00528295951370343,\n",
       "  0.0006226424752795636,\n",
       "  0.0012779338721296725,\n",
       "  0.0010083119651771236]}"
      ]
     },
     "execution_count": 55,
     "metadata": {},
     "output_type": "execute_result"
    }
   ],
   "source": [
    "from sklearn.metrics import f1_score\n",
    "\n",
    "def lgb_f1_score(y_hat, data):\n",
    "    y_true = data.get_label()\n",
    "    y_hat = np.round(y_hat) # scikits f1 doesn't like probabilities\n",
    "    return 'f1', f1_score(y_true, y_hat), True\n",
    "\n",
    "lgb.cv(\n",
    "  {\n",
    "    'num_leaves': 31,\n",
    "    'objective': 'binary',\n",
    "    'num_threads': 3,\n",
    "  },\n",
    "  data_lgb,\n",
    "  10,\n",
    "  nfold = 5,\n",
    "  feval = lgb_f1_score\n",
    ")"
   ]
  },
  {
   "cell_type": "code",
   "execution_count": 56,
   "metadata": {
    "autoscroll": false,
    "ein.hycell": false,
    "ein.tags": "worksheet-0",
    "slideshow": {
     "slide_type": "-"
    }
   },
   "outputs": [],
   "source": [
    "gc.collect();"
   ]
  },
  {
   "cell_type": "markdown",
   "metadata": {
    "ein.tags": "worksheet-0",
    "slideshow": {
     "slide_type": "-"
    }
   },
   "source": [
    "### XGBoost"
   ]
  },
  {
   "cell_type": "code",
   "execution_count": 57,
   "metadata": {
    "autoscroll": false,
    "ein.hycell": false,
    "ein.tags": "worksheet-0",
    "slideshow": {
     "slide_type": "-"
    }
   },
   "outputs": [
    {
     "data": {
      "text/plain": [
       "{'accuracy': namespace(function=<function accuracy_score at 0x7fcea2554bf8>, test=0.6188504817546747, train=0.628839047924481),\n",
       " 'precision': namespace(function=<function precision_score at 0x7fcea2561378>, test=0.6175736573455964, train=0.6228272350813385),\n",
       " 'recall': namespace(function=<function recall_score at 0x7fcea2561400>, test=0.6516234321196744, train=0.656834498994229),\n",
       " 'f1': namespace(function=<function f1_score at 0x7fcea25610d0>, test=0.6275176395805389, train=0.6392267989549723)}"
      ]
     },
     "execution_count": 57,
     "metadata": {},
     "output_type": "execute_result"
    }
   ],
   "source": [
    "from xgboost import XGBClassifier\n",
    "\n",
    "xgb = cross_validate(\n",
    "  XGBClassifier(\n",
    "    n_jobs = 4\n",
    "  )\n",
    ")\n",
    "\n",
    "xgb"
   ]
  },
  {
   "cell_type": "markdown",
   "metadata": {
    "ein.tags": "worksheet-0",
    "slideshow": {
     "slide_type": "-"
    }
   },
   "source": [
    "## Conclusão\n",
    "A disciplina de aprendizado de máquina apresenta técnicas muito poderosas para modelar\n",
    "sistemas complexos e de difícil explicação. Um dos tópicos que mais chamou minha atenção\n",
    "foi a questão da explicabilidade. Neste trabalho, pude observar na prática como os modelos\n",
    "podem trazer não apenas boas soluções para os problemas em si, mas também *insights* novos\n",
    "sobre como olhar para problemas já conhecidos."
   ]
  }
 ],
 "metadata": {
  "kernelspec": {
   "display_name": "Python 3",
   "language": "python",
   "name": "python3"
  },
  "language_info": {
   "codemirror_mode": {
    "name": "ipython",
    "version": 3
   },
   "file_extension": ".py",
   "mimetype": "text/x-python",
   "name": "python",
   "nbconvert_exporter": "python",
   "pygments_lexer": "ipython3",
   "version": "3.7.3"
  },
  "name": "recidivism.ipynb"
 },
 "nbformat": 4,
 "nbformat_minor": 2
}
